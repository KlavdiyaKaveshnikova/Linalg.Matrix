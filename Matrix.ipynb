{
 "cells": [
  {
   "cell_type": "markdown",
   "metadata": {},
   "source": [
    "## Уровень 0:##\n",
    "- Создайте матрицу 3 на 3, заполненную числами от 1 до 9\n",
    "- Прибавьте к ней матрицу с единицами на диагонале\n",
    "- Умножьте полученную матрицу на вектор (1, 2, 3)\n",
    "- Посчитайте обратную матрицу к полученной матрице"
   ]
  },
  {
   "cell_type": "code",
   "execution_count": 1,
   "metadata": {},
   "outputs": [],
   "source": [
    "import numpy as np\n",
    "from scipy import linalg"
   ]
  },
  {
   "cell_type": "code",
   "execution_count": 2,
   "metadata": {},
   "outputs": [],
   "source": [
    "A = np.array(([1,2,3],[4,5,6],[7,8,9]))\n",
    "B = np.eye(3)\n",
    "vector = np.array(([1,2,3]))"
   ]
  },
  {
   "cell_type": "code",
   "execution_count": 3,
   "metadata": {},
   "outputs": [
    {
     "name": "stdout",
     "output_type": "stream",
     "text": [
      "[[ 2.  2.  3.]\n",
      " [ 4.  6.  6.]\n",
      " [ 7.  8. 10.]]\n"
     ]
    }
   ],
   "source": [
    "C = A+B\n",
    "print(C)"
   ]
  },
  {
   "cell_type": "code",
   "execution_count": 4,
   "metadata": {
    "scrolled": true
   },
   "outputs": [
    {
     "name": "stdout",
     "output_type": "stream",
     "text": [
      "[15. 34. 53.]\n"
     ]
    }
   ],
   "source": [
    "D = C@vector\n",
    "print(D)"
   ]
  },
  {
   "cell_type": "code",
   "execution_count": 5,
   "metadata": {},
   "outputs": [
    {
     "name": "stdout",
     "output_type": "stream",
     "text": [
      "[[-6.00000000e+00 -2.00000000e+00  3.00000000e+00]\n",
      " [-1.00000000e+00  5.00000000e-01  2.22044605e-17]\n",
      " [ 5.00000000e+00  1.00000000e+00 -2.00000000e+00]]\n"
     ]
    }
   ],
   "source": [
    "# логично предположить, что в задании требуется найти обратную матрицу от матрицы С, а не от D, \n",
    "# так как обратная матрица существует только у квадратных\n",
    "\n",
    "\n",
    "C_inv = np.linalg.inv(C)\n",
    "\n",
    "print(C_inv)"
   ]
  },
  {
   "cell_type": "code",
   "execution_count": 6,
   "metadata": {},
   "outputs": [
    {
     "name": "stdout",
     "output_type": "stream",
     "text": [
      "[[1.00000000e+00 3.55271368e-15 8.88178420e-16]\n",
      " [1.55431223e-16 1.00000000e+00 2.22044605e-16]\n",
      " [1.33226763e-15 0.00000000e+00 1.00000000e+00]]\n"
     ]
    }
   ],
   "source": [
    "# проверка (с округлением выходит единичная матрица)\n",
    "\n",
    "I = C_inv.dot(C)\n",
    "print(I)"
   ]
  },
  {
   "cell_type": "markdown",
   "metadata": {},
   "source": [
    "## Уровень 1:##\n",
    "Дан объект в 2d пространстве.\n",
    "\n",
    "При помощи матричных операций выполните:\n",
    "- Уменьшить объект в два раза.\n",
    "- Повернуть на 130 градусов.\n",
    "- Отразить объект относительно прямой y=x\n",
    "- Выполнить смещение объекта и масштабирование (применить 2 матрицы трансформаций). Смещение на (200, 300) и масштабирование на (0.5, 1,2)"
   ]
  },
  {
   "cell_type": "code",
   "execution_count": 37,
   "metadata": {},
   "outputs": [],
   "source": [
    "from matplotlib import pyplot as plt"
   ]
  },
  {
   "cell_type": "code",
   "execution_count": 79,
   "metadata": {
    "scrolled": true
   },
   "outputs": [
    {
     "data": {
      "text/plain": [
       "(-200, 200)"
      ]
     },
     "execution_count": 79,
     "metadata": {},
     "output_type": "execute_result"
    },
    {
     "data": {
      "image/png": "[encoded data removed]",
      "text/plain": [
       "<Figure size 432x288 with 1 Axes>"
      ]
     },
     "metadata": {
      "needs_background": "light"
     },
     "output_type": "display_data"
    }
   ],
   "source": [
    "A = [\n",
    "[-100, -100, 1],\n",
    "[-100, 100, 1],\n",
    "[100, 100, 1],\n",
    "[0, 0, 1],\n",
    "[100, -100, 1],\n",
    "[-100, -100, 1]\n",
    "]\n",
    "A = np.array(A)\n",
    "x = A[:,0]\n",
    "y = A[:,1]\n",
    "plt.plot(x, y)\n",
    "plt.ylim([-200, 200])\n",
    "plt.xlim([-200, 200])"
   ]
  },
  {
   "cell_type": "code",
   "execution_count": 39,
   "metadata": {},
   "outputs": [],
   "source": [
    "# уменьшение в два раза\n",
    "\n",
    "B = 0.5*A"
   ]
  },
  {
   "cell_type": "code",
   "execution_count": 40,
   "metadata": {},
   "outputs": [
    {
     "data": {
      "text/plain": [
       "<matplotlib.legend.Legend at 0x7fb2dec47dd0>"
      ]
     },
     "execution_count": 40,
     "metadata": {},
     "output_type": "execute_result"
    },
    {
     "data": {
      "image/png": "[encoded data removed]",
      "text/plain": [
       "<Figure size 432x288 with 1 Axes>"
      ]
     },
     "metadata": {
      "needs_background": "light"
     },
     "output_type": "display_data"
    }
   ],
   "source": [
    "x = B[:,0]\n",
    "y = B[:,1]\n",
    "plt.plot(x, y)\n",
    "x = A[:,0]\n",
    "y = A[:,1]\n",
    "plt.plot(x, y, color='r')\n",
    "plt.ylim([-200, 200])\n",
    "plt.xlim([-200, 200])\n",
    "plt.legend(['новый', 'исходный'])"
   ]
  },
  {
   "cell_type": "code",
   "execution_count": 41,
   "metadata": {},
   "outputs": [],
   "source": [
    "# отражение на 130 градусов\n",
    "\n",
    "from math import cos, sin, pi\n",
    "\n",
    "def reflection(angle):\n",
    "\n",
    "    theta = angle * 180/pi\n",
    "    TransformArray = np.array([\n",
    "        [cos(theta), sin(theta), 0],\n",
    "        [-sin(theta), cos(theta), 0],\n",
    "        [0, 0, 1]\n",
    "    ])\n",
    "    \n",
    "    B = []\n",
    "    for point in A:\n",
    "        new_point=np.dot(TransformArray,np.transpose(point))\n",
    "        B.append(new_point)\n",
    "    B = np.array(B).astype(int)\n",
    "    print(B)\n",
    "    \n",
    "    plt.figure(\n",
    "    figsize=(8, 8),\n",
    "    )\n",
    "    x = B[:,0]\n",
    "    y = B[:,1]\n",
    "    plt.plot(x, y)\n",
    "\n",
    "    plt.ylim([-200, 200])\n",
    "    plt.xlim([-200, 200])"
   ]
  },
  {
   "cell_type": "code",
   "execution_count": 43,
   "metadata": {},
   "outputs": [
    {
     "name": "stdout",
     "output_type": "stream",
     "text": [
      "[[  70  122    1]\n",
      " [ 122  -70    1]\n",
      " [ -70 -122    1]\n",
      " [   0    0    1]\n",
      " [-122   70    1]\n",
      " [  70  122    1]]\n"
     ]
    },
    {
     "data": {
      "image/png": "[encoded data removed]",
      "text/plain": [
       "<Figure size 576x576 with 1 Axes>"
      ]
     },
     "metadata": {
      "needs_background": "light"
     },
     "output_type": "display_data"
    }
   ],
   "source": [
    "reflection(130)"
   ]
  },
  {
   "cell_type": "code",
   "execution_count": 44,
   "metadata": {},
   "outputs": [],
   "source": [
    "# отражение объекта относительно прямой y=x (построила диагональ), матрицу отражения взяла с чата mds\n",
    "# вопрос - именно такое отражение задумывалось?\n",
    "\n",
    "\n",
    "TransformArray = np.array([\n",
    "    [0, 1, 0],\n",
    "    [1, 0, 0],\n",
    "    [0, 0, 1]\n",
    "])"
   ]
  },
  {
   "cell_type": "code",
   "execution_count": 45,
   "metadata": {},
   "outputs": [],
   "source": [
    "B = A@TransformArray"
   ]
  },
  {
   "cell_type": "code",
   "execution_count": 48,
   "metadata": {},
   "outputs": [
    {
     "data": {
      "text/plain": [
       "[<matplotlib.lines.Line2D at 0x7fb2df0c9d50>]"
      ]
     },
     "execution_count": 48,
     "metadata": {},
     "output_type": "execute_result"
    },
    {
     "data": {
      "image/png": "[encoded data removed]",
      "text/plain": [
       "<Figure size 432x288 with 1 Axes>"
      ]
     },
     "metadata": {
      "needs_background": "light"
     },
     "output_type": "display_data"
    }
   ],
   "source": [
    "x = B[:,0]\n",
    "y = B[:,1]\n",
    "plt.plot(x, y)\n",
    "\n",
    "plt.plot(x, y, color='r')\n",
    "plt.ylim([-200, 200])\n",
    "plt.xlim([-200, 200])\n",
    "\n",
    "x = [-200, 200];\n",
    "y = [-200, 200];\n",
    "plt.plot(x,y)"
   ]
  },
  {
   "cell_type": "code",
   "execution_count": 92,
   "metadata": {},
   "outputs": [],
   "source": [
    "# смещение на 200 и масштабирование на 0,5\n",
    "\n",
    "TransformArray = np.array([\n",
    "    [0.5, 0, 0],\n",
    "    [0, 0.5, 0],\n",
    "    [0, 0, 0.5]\n",
    "])"
   ]
  },
  {
   "cell_type": "code",
   "execution_count": 95,
   "metadata": {},
   "outputs": [
    {
     "name": "stdout",
     "output_type": "stream",
     "text": [
      "[[ 50 -50   0]\n",
      " [ 50  50   0]\n",
      " [150  50   0]\n",
      " [100   0   0]\n",
      " [150 -50   0]\n",
      " [ 50 -50   0]]\n"
     ]
    }
   ],
   "source": [
    "B = []\n",
    "for point in A:\n",
    "    point=point+[200, 0, 0]\n",
    "    new_point=np.dot(TransformArray,np.transpose(point))\n",
    "    B.append(new_point)\n",
    "B = np.array(B).astype(int)\n",
    "print(B)"
   ]
  },
  {
   "cell_type": "code",
   "execution_count": 98,
   "metadata": {},
   "outputs": [
    {
     "data": {
      "text/plain": [
       "[<matplotlib.lines.Line2D at 0x7fb2df452710>]"
      ]
     },
     "execution_count": 98,
     "metadata": {},
     "output_type": "execute_result"
    },
    {
     "data": {
      "image/png": "[encoded data removed]",
      "text/plain": [
       "<Figure size 432x288 with 1 Axes>"
      ]
     },
     "metadata": {
      "needs_background": "light"
     },
     "output_type": "display_data"
    }
   ],
   "source": [
    "x = B[:,0]\n",
    "y = B[:,1]\n",
    "plt.plot(x, y)\n",
    "\n",
    "plt.plot(x, y, color='r')\n",
    "plt.ylim([-100, 100])\n",
    "plt.xlim([0, 200])\n",
    "\n",
    "plt.plot(x,y)"
   ]
  },
  {
   "cell_type": "code",
   "execution_count": 99,
   "metadata": {},
   "outputs": [],
   "source": [
    "# смещение на 300 и масштабирование на 1,2\n",
    "\n",
    "TransformArray = np.array([\n",
    "    [1.2, 0, 0],\n",
    "    [0, 1.2, 0],\n",
    "    [0, 0, 1.2]\n",
    "])"
   ]
  },
  {
   "cell_type": "code",
   "execution_count": 100,
   "metadata": {},
   "outputs": [
    {
     "name": "stdout",
     "output_type": "stream",
     "text": [
      "[[ 240 -120    1]\n",
      " [ 240  120    1]\n",
      " [ 480  120    1]\n",
      " [ 360    0    1]\n",
      " [ 480 -120    1]\n",
      " [ 240 -120    1]]\n"
     ]
    }
   ],
   "source": [
    "B = []\n",
    "for point in A:\n",
    "    point=point+[300, 0, 0]\n",
    "    new_point=np.dot(TransformArray,np.transpose(point))\n",
    "    B.append(new_point)\n",
    "B = np.array(B).astype(int)\n",
    "print(B)"
   ]
  },
  {
   "cell_type": "code",
   "execution_count": 102,
   "metadata": {},
   "outputs": [
    {
     "data": {
      "text/plain": [
       "[<matplotlib.lines.Line2D at 0x7fb2ddc53ad0>]"
      ]
     },
     "execution_count": 102,
     "metadata": {},
     "output_type": "execute_result"
    },
    {
     "data": {
      "image/png": "[encoded data removed]",
      "text/plain": [
       "<Figure size 432x288 with 1 Axes>"
      ]
     },
     "metadata": {
      "needs_background": "light"
     },
     "output_type": "display_data"
    }
   ],
   "source": [
    "x = B[:,0]\n",
    "y = B[:,1]\n",
    "plt.plot(x, y)\n",
    "\n",
    "plt.plot(x, y, color='r')\n",
    "plt.ylim([-200, 200])\n",
    "plt.xlim([200, 600])\n",
    "\n",
    "plt.plot(x,y)"
   ]
  },
  {
   "cell_type": "code",
   "execution_count": null,
   "metadata": {},
   "outputs": [],
   "source": []
  }
 ],
 "metadata": {
  "kernelspec": {
   "display_name": "Python 3",
   "language": "python",
   "name": "python3"
  },
  "language_info": {
   "codemirror_mode": {
    "name": "ipython",
    "version": 3
   },
   "file_extension": ".py",
   "mimetype": "text/x-python",
   "name": "python",
   "nbconvert_exporter": "python",
   "pygments_lexer": "ipython3",
   "version": "3.7.6"
  }
 },
 "nbformat": 4,
 "nbformat_minor": 4
}
